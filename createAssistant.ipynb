{
 "cells": [
  {
   "cell_type": "code",
   "execution_count": null,
   "metadata": {},
   "outputs": [],
   "source": [
    "from dotenv import load_dotenv\n",
    "from openai import OpenAI\n",
    "from time import sleep\n",
    "from os import listdir"
   ]
  },
  {
   "cell_type": "code",
   "execution_count": null,
   "metadata": {},
   "outputs": [],
   "source": [
    "# load environment variables (API keys)\n",
    "load_dotenv()\n",
    "\n",
    "client = OpenAI()\n"
   ]
  },
  {
   "cell_type": "code",
   "execution_count": null,
   "metadata": {},
   "outputs": [],
   "source": [
    "# Uplaod file should only be done once\n",
    "\n",
    "\n",
    "document_path = \"documents\"\n",
    "\n",
    "for document in listdir(document_path):\n",
    "    print(\"Uploading file: \", document)\n",
    "    file = client.files.create(\n",
    "        file=open(f\"{document_path}/{document}\", \"rb\"),\n",
    "        purpose='assistants'\n",
    "    )\n",
    "\n",
    "    # append file id to new file\n",
    "    print(\"Writing file id to file_ids.txt\")\n",
    "    with open(\"file_ids.txt\", \"a\") as f:\n",
    "        f.write(file.id + \"\\n\")\n",
    "\n"
   ]
  },
  {
   "cell_type": "code",
   "execution_count": null,
   "metadata": {},
   "outputs": [],
   "source": [
    "files = []\n",
    "\n",
    "for line in open(\"file_ids.txt\", \"r\").readlines():\n",
    "    files.append(line.strip())\n",
    "\n",
    "print(\"Files: \", files)\n"
   ]
  },
  {
   "cell_type": "code",
   "execution_count": null,
   "metadata": {},
   "outputs": [],
   "source": [
    "\n",
    "'''\n",
    "This is the assistant that will be used to answer questions about the book.\n",
    "\n",
    "the assistant is only create once and can be used multiple times. with assitant.id\n",
    "'''\n",
    "assistant = client.beta.assistants.create(\n",
    "    name=\"Islam quiz creator\",\n",
    "    instructions=\"\"\"\n",
    "    You are a quizz creator for creating quizzes to students as study material.\n",
    "    Do not give paragraphs but instead only questions.\n",
    "    Create a quiz about Islam from the provided text.\n",
    "    Use only the provided text and craete a generall quizz to help people learn about Islam.\n",
    "    If the answer cannot be found in the articles, write 'I could not find an answer from the provded documents.'\"\"\",\n",
    "    #\n",
    "    # retrieval tool is used to implement a RAG-system\n",
    "    # \n",
    "    tools=[{\"type\": \"retrieval\"}],\n",
    "    model=\"gpt-3.5-turbo-1106\",\n",
    "    file_ids=files\n",
    ")\n",
    "\n",
    "print(assistant.id)"
   ]
  },
  {
   "cell_type": "code",
   "execution_count": null,
   "metadata": {},
   "outputs": [],
   "source": [
    "\n",
    "# view all assistants\n",
    "\n",
    "my_assistants = client.beta.assistants.list(\n",
    "    order=\"desc\",\n",
    "    limit=\"20\",\n",
    ")\n",
    "\n",
    "for assistangt in my_assistants.data:\n",
    "    print(assistangt)\n",
    "\n",
    "\n",
    "\n"
   ]
  },
  {
   "cell_type": "code",
   "execution_count": null,
   "metadata": {},
   "outputs": [],
   "source": [
    "\n",
    "# find more on how assistants work here\n",
    "# https://platform.openai.com/docs/assistants/how-it-works/objects\n",
    "\n",
    "thread = client.beta.threads.create()\n",
    "\n",
    "message = client.beta.threads.messages.create(\n",
    "    thread_id=thread.id,\n",
    "    role=\"user\",\n",
    "    content=\"Give me 5 quizz questions about Islam. from the provided text only.\"\n",
    ")\n",
    "\n",
    "run = client.beta.threads.runs.create(\n",
    "  thread_id=thread.id,\n",
    "  assistant_id=assistantID,\n",
    "  instructions=\"Please address the user as Jane Doe. The user has a premium account.\"\n",
    ")\n",
    "\n",
    "\n",
    "while run.status != \"completed\":\n",
    "    run = client.beta.threads.runs.retrieve(\n",
    "        thread_id=thread.id,\n",
    "        run_id=run.id\n",
    "    )\n",
    "    sleep(1)\n",
    "\n",
    "print(run.status)\n",
    "\n"
   ]
  },
  {
   "cell_type": "code",
   "execution_count": null,
   "metadata": {},
   "outputs": [],
   "source": [
    "\n",
    "# retrieve and format mesasge \n",
    "messages = client.beta.threads.messages.list(thread_id=thread.id)\n",
    "message = messages.data[0]\n",
    "\n",
    "# Extract the message content\n",
    "message_content = message.content[0].text\n",
    "annotations = message_content.annotations\n",
    "citations = []\n",
    "\n",
    "# Iterate over the annotations and add footnotes\n",
    "for index, annotation in enumerate(annotations):\n",
    "    # Replace the text with a footnote\n",
    "    message_content.value = message_content.value.replace(\n",
    "        annotation.text, f' [{index}]')\n",
    "\n",
    "    # Gather citations based on annotation attributes\n",
    "    if (file_citation := getattr(annotation, 'file_citation', None)):\n",
    "        cited_file = client.files.retrieve(file_citation.file_id)\n",
    "        citations.append(\n",
    "            f'[{index}] {file_citation.quote} from {cited_file.filename}')\n",
    "    elif (file_path := getattr(annotation, 'file_path', None)):\n",
    "        cited_file = client.files.retrieve(file_path.file_id)\n",
    "        citations.append(\n",
    "            f'[{index}] Click <here> to download {cited_file.filename}')\n",
    "        # Note: File download functionality not implemented above for brevity\n",
    "\n",
    "# Add footnotes to the end of the message before displaying to user\n",
    "message_content.value += '\\n' + '\\n'.join(citations)\n"
   ]
  },
  {
   "cell_type": "code",
   "execution_count": null,
   "metadata": {},
   "outputs": [],
   "source": [
    "print(message_content.value)"
   ]
  }
 ],
 "metadata": {
  "kernelspec": {
   "display_name": "Python 3",
   "language": "python",
   "name": "python3"
  },
  "language_info": {
   "codemirror_mode": {
    "name": "ipython",
    "version": 3
   },
   "file_extension": ".py",
   "mimetype": "text/x-python",
   "name": "python",
   "nbconvert_exporter": "python",
   "pygments_lexer": "ipython3",
   "version": "3.9.17"
  }
 },
 "nbformat": 4,
 "nbformat_minor": 2
}
