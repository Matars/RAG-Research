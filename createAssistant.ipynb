{
 "cells": [
  {
   "cell_type": "code",
   "execution_count": 17,
   "metadata": {},
   "outputs": [],
   "source": [
    "from dotenv import load_dotenv\n",
    "from openai import OpenAI\n",
    "from time import sleep\n",
    "from os import listdir"
   ]
  },
  {
   "cell_type": "code",
   "execution_count": 4,
   "metadata": {},
   "outputs": [],
   "source": [
    "# load environment variables (API keys)\n",
    "# should be in .env file OPENAI_API_KEY=sk-...\n",
    "load_dotenv()\n",
    "\n",
    "client = OpenAI()\n"
   ]
  },
  {
   "cell_type": "code",
   "execution_count": 20,
   "metadata": {},
   "outputs": [
    {
     "name": "stdout",
     "output_type": "stream",
     "text": [
      "Uploading file:  Förord.pdf\n",
      "Writing file id to file_ids.txt\n",
      "Uploading file:  Svensson.pdf\n",
      "Writing file id to file_ids.txt\n",
      "Uploading file:  Larsson2.pdf\n",
      "Writing file id to file_ids.txt\n",
      "Uploading file:  Otterbeck.pdf\n",
      "Writing file id to file_ids.txt\n",
      "Uploading file:  Olsson & Sorgenfrei.pdf\n",
      "Writing file id to file_ids.txt\n",
      "Uploading file:  Sorgenfrei Olssson.pdf\n",
      "Writing file id to file_ids.txt\n",
      "Uploading file:  Hjärpe.pdf\n",
      "Writing file id to file_ids.txt\n",
      "Uploading file:  Olsson2.pdf\n",
      "Writing file id to file_ids.txt\n",
      "Uploading file:  Sorgenfrei.pdf\n",
      "Writing file id to file_ids.txt\n",
      "Uploading file:  Poljarevic2.pdf\n",
      "Writing file id to file_ids.txt\n",
      "Uploading file:  Stenberg.pdf\n",
      "Writing file id to file_ids.txt\n",
      "Uploading file:  Olsson1.pdf\n",
      "Writing file id to file_ids.txt\n",
      "Uploading file:  Larsson.pdf\n",
      "Writing file id to file_ids.txt\n",
      "Uploading file:  Thurfjell.pdf\n",
      "Writing file id to file_ids.txt\n",
      "Uploading file:  Sorgenfrei & Olsson.pdf\n",
      "Writing file id to file_ids.txt\n",
      "Uploading file:  Larsson, Olsson Sorgenfrei.pdf\n",
      "Writing file id to file_ids.txt\n",
      "Uploading file:  Thurfjell2.pdf\n",
      "Writing file id to file_ids.txt\n"
     ]
    }
   ],
   "source": [
    "# Uplaod file should only be done once\n",
    "\n",
    "# file = client.files.create(\n",
    "#     file=open(file_path, \"rb\"),\n",
    "#     purpose='assistants'\n",
    "# )\n",
    "\n",
    "document_path = \"documents\"\n",
    "# print all file names in the documents folder\n",
    "for document in listdir(document_path):\n",
    "    print(\"Uploading file: \", document)\n",
    "    file = client.files.create(\n",
    "        file=open(f\"{document_path}/{document}\", \"rb\"),\n",
    "        purpose='assistants'\n",
    "    )\n",
    "\n",
    "    # append file id to new file\n",
    "    print(\"Writing file id to file_ids.txt\")\n",
    "    with open(\"file_ids.txt\", \"a\") as f:\n",
    "        f.write(file.id + \"\\n\")\n",
    "\n",
    "\n",
    "\n"
   ]
  },
  {
   "cell_type": "code",
   "execution_count": 25,
   "metadata": {},
   "outputs": [
    {
     "name": "stdout",
     "output_type": "stream",
     "text": [
      "Files:  ['file-6ZccOWyCX4eQ7NBJuNJf5fCI', 'file-uIMf2TH9QcHVm8Dq8gaWSmiz', 'file-8dAXXZ9kFZPsShdmd5rJmSBN', 'file-jwevSdA3NsERT8qb2cyFRcPa', 'file-g5FadGJzTx5TrpymSlTe1O5N', 'file-AdlVpSZeyVNGK2sLcpzRf5o2', 'file-JH2S1YLQ4P6N5uA6nNxoIQQI', 'file-jdPlomchPXU8AHS9QPt3qgrK', 'file-sCoQ9OgcmT6r0YDdalwinNlq', 'file-82hyGrdoVLvxp6kYpNNOQSY6', 'file-RD2QBVJpa2jWgdyBfMcrbclh', 'file-UBhKtSB4FpB4IKSXnITumORf', 'file-hRStoBY3LiKV0hEzXN1WBinm', 'file-p1mdAwmS49rw9DmpZVPdC549', 'file-1BwubI6X50DA0sr20gv1GKHR', 'file-1LRr6FEOoDjWMpZsBpgFWmdV', 'file-jFU0wXh2wTbaB6dk6NbtkWjC']\n"
     ]
    }
   ],
   "source": [
    "# files = []\n",
    "\n",
    "# for line in open(\"file_ids.txt\", \"r\").readlines():\n",
    "#     files.append(line.strip())\n",
    "\n",
    "print(\"Files: \", files)\n"
   ]
  },
  {
   "cell_type": "code",
   "execution_count": 27,
   "metadata": {},
   "outputs": [
    {
     "name": "stdout",
     "output_type": "stream",
     "text": [
      "asst_DsTDGQ1pD9gYm9Lehy9VSgu4\n"
     ]
    }
   ],
   "source": [
    "\n",
    "'''\n",
    "This is the assistant that will be used to answer questions about the book.\n",
    "\n",
    "the assistant is only create once and can be used multiple times. with assitant.id\n",
    "'''\n",
    "assistant = client.beta.assistants.create(\n",
    "    name=\"Islam quiz creator\",\n",
    "    instructions=\"\"\"\n",
    "    You are a quizz creator for creating quizzes to students as study material.\n",
    "    Do not give paragraphs but instead only questions.\n",
    "    Create a quiz about Islam from the provided text.\n",
    "    Use only the provided text and craete a generall quizz to help people learn about Islam.\n",
    "    If the answer cannot be found in the articles, write 'I could not find an answer from the provded documents.'\"\"\",\n",
    "    #\n",
    "    # retrieval tool is used to implement a RAG-system\n",
    "    # \n",
    "    tools=[{\"type\": \"retrieval\"}],\n",
    "    model=\"gpt-3.5-turbo-1106\",\n",
    "    file_ids=files\n",
    ")\n",
    "\n",
    "print(assistant.id)"
   ]
  },
  {
   "cell_type": "code",
   "execution_count": 29,
   "metadata": {},
   "outputs": [
    {
     "name": "stdout",
     "output_type": "stream",
     "text": [
      "Assistant(id='asst_DsTDGQ1pD9gYm9Lehy9VSgu4', created_at=1703330997, description=None, file_ids=['file-jFU0wXh2wTbaB6dk6NbtkWjC', 'file-1LRr6FEOoDjWMpZsBpgFWmdV', 'file-1BwubI6X50DA0sr20gv1GKHR'], instructions=\"\\n    You are a quizz creator for creating quizzes to students as study material.\\n    Do not give paragraphs but instead only questions.\\n    Create a quiz about Islam from the provided text.\\n    Use only the provided text and craete a generall quizz to help people learn about Islam.\\n    If the answer cannot be found in the articles, write 'I could not find an answer from the provded documents.'\", metadata={}, model='gpt-3.5-turbo-1106', name='Islam quiz creator', object='assistant', tools=[ToolRetrieval(type='retrieval')])\n",
      "Assistant(id='asst_ScGfhT0u4MomilSUCTuKnRWF', created_at=1703330932, description=None, file_ids=['file-jFU0wXh2wTbaB6dk6NbtkWjC', 'file-1LRr6FEOoDjWMpZsBpgFWmdV', 'file-1BwubI6X50DA0sr20gv1GKHR', 'file-p1mdAwmS49rw9DmpZVPdC549', 'file-hRStoBY3LiKV0hEzXN1WBinm', 'file-UBhKtSB4FpB4IKSXnITumORf', 'file-RD2QBVJpa2jWgdyBfMcrbclh', 'file-82hyGrdoVLvxp6kYpNNOQSY6', 'file-sCoQ9OgcmT6r0YDdalwinNlq', 'file-jdPlomchPXU8AHS9QPt3qgrK', 'file-JH2S1YLQ4P6N5uA6nNxoIQQI', 'file-AdlVpSZeyVNGK2sLcpzRf5o2', 'file-g5FadGJzTx5TrpymSlTe1O5N', 'file-jwevSdA3NsERT8qb2cyFRcPa', 'file-8dAXXZ9kFZPsShdmd5rJmSBN', 'file-uIMf2TH9QcHVm8Dq8gaWSmiz', 'file-6ZccOWyCX4eQ7NBJuNJf5fCI'], instructions=\"\\n    You are a quizz creator for creating quizzes to students as study material.\\n    Do not give paragraphs but instead only questions.\\n    Create a quiz about Islam from the provided text.\\n    Use only the provided text and craete a generall quizz to help people learn about Islam.\\n    If the answer cannot be found in the articles, write 'I could not find an answer from the provded documents.'\", metadata={}, model='gpt-4-1106-preview', name='Islam quiz creator', object='assistant', tools=[ToolRetrieval(type='retrieval')])\n"
     ]
    }
   ],
   "source": [
    "\n",
    "# client.files.list()\n",
    "\n",
    "my_assistants = client.beta.assistants.list(\n",
    "    order=\"desc\",\n",
    "    limit=\"20\",\n",
    ")\n",
    "\n",
    "for assistangt in my_assistants.data:\n",
    "    # print(\"delting assistant: \", assistangt.id)\n",
    "    #client.beta.assistants.delete(assistangt.id)\n",
    "\n",
    "    print(assistangt)\n",
    "\n",
    "# my_assistants.data\n",
    "\n",
    "\n"
   ]
  },
  {
   "cell_type": "code",
   "execution_count": null,
   "metadata": {},
   "outputs": [],
   "source": [
    "\n",
    "\n",
    "\n",
    "thread = client.beta.threads.create()\n",
    "\n",
    "message = client.beta.threads.messages.create(\n",
    "    thread_id=thread.id,\n",
    "    role=\"user\",\n",
    "    content=\"Give me 5 quizz questions about Islam. from the provided text only.\"\n",
    ")\n",
    "\n",
    "run = client.beta.threads.runs.create(\n",
    "  thread_id=thread.id,\n",
    "  assistant_id=assistantID,\n",
    "  instructions=\"Please address the user as Jane Doe. The user has a premium account.\"\n",
    ")\n",
    "\n",
    "\n",
    "while run.status != \"completed\":\n",
    "    run = client.beta.threads.runs.retrieve(\n",
    "        thread_id=thread.id,\n",
    "        run_id=run.id\n",
    "    )\n",
    "    sleep(1)\n",
    "\n",
    "print(run.status)\n",
    "\n"
   ]
  },
  {
   "cell_type": "code",
   "execution_count": null,
   "metadata": {},
   "outputs": [],
   "source": [
    "\n",
    "# retrieve and format mesasge \n",
    "messages = client.beta.threads.messages.list(thread_id=thread.id)\n",
    "message = messages.data[0]\n",
    "\n",
    "# Extract the message content\n",
    "message_content = message.content[0].text\n",
    "annotations = message_content.annotations\n",
    "citations = []\n",
    "\n",
    "# Iterate over the annotations and add footnotes\n",
    "for index, annotation in enumerate(annotations):\n",
    "    # Replace the text with a footnote\n",
    "    message_content.value = message_content.value.replace(\n",
    "        annotation.text, f' [{index}]')\n",
    "\n",
    "    # Gather citations based on annotation attributes\n",
    "    if (file_citation := getattr(annotation, 'file_citation', None)):\n",
    "        cited_file = client.files.retrieve(file_citation.file_id)\n",
    "        citations.append(\n",
    "            f'[{index}] {file_citation.quote} from {cited_file.filename}')\n",
    "    elif (file_path := getattr(annotation, 'file_path', None)):\n",
    "        cited_file = client.files.retrieve(file_path.file_id)\n",
    "        citations.append(\n",
    "            f'[{index}] Click <here> to download {cited_file.filename}')\n",
    "        # Note: File download functionality not implemented above for brevity\n",
    "\n",
    "# Add footnotes to the end of the message before displaying to user\n",
    "message_content.value += '\\n' + '\\n'.join(citations)\n"
   ]
  },
  {
   "cell_type": "code",
   "execution_count": null,
   "metadata": {},
   "outputs": [],
   "source": [
    "print(message_content.value)"
   ]
  }
 ],
 "metadata": {
  "kernelspec": {
   "display_name": "Python 3",
   "language": "python",
   "name": "python3"
  },
  "language_info": {
   "codemirror_mode": {
    "name": "ipython",
    "version": 3
   },
   "file_extension": ".py",
   "mimetype": "text/x-python",
   "name": "python",
   "nbconvert_exporter": "python",
   "pygments_lexer": "ipython3",
   "version": "3.9.17"
  }
 },
 "nbformat": 4,
 "nbformat_minor": 2
}
